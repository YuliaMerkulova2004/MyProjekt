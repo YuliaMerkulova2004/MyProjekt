{
  "nbformat": 4,
  "nbformat_minor": 0,
  "metadata": {
    "colab": {
      "provenance": []
    },
    "kernelspec": {
      "name": "python3",
      "display_name": "Python 3"
    },
    "language_info": {
      "name": "python"
    }
  },
  "cells": [
    {
      "cell_type": "code",
      "execution_count": null,
      "metadata": {
        "id": "dHRAs9k1VULw"
      },
      "outputs": [],
      "source": [
        "import os\n",
        "os.chdir('/content/drive/MyDrive/Colab Notebooks')"
      ]
    },
    {
      "cell_type": "code",
      "source": [
        "# импорт модулей\n",
        "from tensorflow import keras\n",
        "import matplotlib.pyplot as plt\n",
        "import numpy as np\n",
        "import sklearn"
      ],
      "metadata": {
        "id": "qbAaLVW_iP5r"
      },
      "execution_count": null,
      "outputs": []
    },
    {
      "cell_type": "code",
      "source": [
        "# загрузка датасета\n",
        "from keras.datasets import mnist\n",
        "(X_train, y_train), (X_test, y_test) = mnist.load_data()"
      ],
      "metadata": {
        "id": "J3GnkUqoirKj"
      },
      "execution_count": null,
      "outputs": []
    },
    {
      "cell_type": "code",
      "source": [
        "# создание своего разбиения датасета\n",
        "from sklearn.model_selection import train_test_split\n",
        "# объединяем в один набор\n",
        "X = np.concatenate((X_train, X_test))\n",
        "y = np.concatenate((y_train, y_test))\n",
        "# разбиваем по вариантам\n",
        "X_train, X_test, y_train, y_test = train_test_split(X, y,\n",
        "test_size = 10000,\n",
        "train_size = 60000,\n",
        "random_state = 613)"
      ],
      "metadata": {
        "id": "XpTZF0xyiuiy"
      },
      "execution_count": null,
      "outputs": []
    },
    {
      "cell_type": "code",
      "source": [
        "# вывод размерностей\n",
        "print('Shape of X train:', X_train.shape)\n",
        "print('Shape of y train:', y_train.shape)"
      ],
      "metadata": {
        "colab": {
          "base_uri": "https://localhost:8080/"
        },
        "id": "JKZnLnBfi-Zq",
        "outputId": "9fafd24c-3898-47b2-eb39-0efdf088087a"
      },
      "execution_count": null,
      "outputs": [
        {
          "output_type": "stream",
          "name": "stdout",
          "text": [
            "Shape of X train: (60000, 28, 28)\n",
            "Shape of y train: (60000,)\n"
          ]
        }
      ]
    },
    {
      "cell_type": "code",
      "source": [
        "# вывод изображения\n",
        "plt.imshow(X_train[613], cmap=plt.get_cmap('gray'))\n",
        "plt.show()\n",
        "# вывод метки для этого изображения\n",
        "print(y_train[613])"
      ],
      "metadata": {
        "colab": {
          "base_uri": "https://localhost:8080/",
          "height": 447
        },
        "id": "aA2AKmTwjJBq",
        "outputId": "982fac52-2dc8-416f-99c7-10c8d73189ba"
      },
      "execution_count": null,
      "outputs": [
        {
          "output_type": "display_data",
          "data": {
            "text/plain": [
              "<Figure size 640x480 with 1 Axes>"
            ],
            "image/png": "[encoded data removed]"
          },
          "metadata": {}
        },
        {
          "output_type": "stream",
          "name": "stdout",
          "text": [
            "5\n"
          ]
        }
      ]
    },
    {
      "cell_type": "code",
      "source": [
        "# развернем каждое изображение 28*28 в вектор 784\n",
        "num_pixels = X_train.shape[1] * X_train.shape[2]\n",
        "X_train = X_train.reshape(X_train.shape[0], num_pixels) / 255\n",
        "X_test = X_test.reshape(X_test.shape[0], num_pixels) / 255\n",
        "print('Shape of transformed X train:', X_train.shape)"
      ],
      "metadata": {
        "colab": {
          "base_uri": "https://localhost:8080/"
        },
        "id": "7ecE-bBgjZVx",
        "outputId": "d0e9895f-8a12-4df5-a54a-aaf602aa5dfc"
      },
      "execution_count": null,
      "outputs": [
        {
          "output_type": "stream",
          "name": "stdout",
          "text": [
            "Shape of transformed X train: (60000, 784)\n"
          ]
        }
      ]
    },
    {
      "cell_type": "code",
      "source": [
        "# переведем метки в one-hot\n",
        "from keras.utils import np_utils\n",
        "y_train = np_utils.to_categorical(y_train)\n",
        "y_test = np_utils.to_categorical(y_test)\n",
        "print('Shape of transformed y train:', y_train.shape)\n",
        "num_classes = y_train.shape[1]"
      ],
      "metadata": {
        "colab": {
          "base_uri": "https://localhost:8080/"
        },
        "id": "lvySoih3jgRi",
        "outputId": "a3ff5e73-9206-4952-b361-5d89f279b63b"
      },
      "execution_count": null,
      "outputs": [
        {
          "output_type": "stream",
          "name": "stdout",
          "text": [
            "Shape of transformed y train: (60000, 10)\n"
          ]
        }
      ]
    },
    {
      "cell_type": "code",
      "source": [
        "from keras.models import Sequential\n",
        "from keras.layers import Dense"
      ],
      "metadata": {
        "id": "90BehVi5joHY"
      },
      "execution_count": null,
      "outputs": []
    },
    {
      "cell_type": "code",
      "source": [
        "# 1. создаем модель - объявляем ее объектом класса Sequential\n",
        "model = Sequential()\n",
        "# 2. добавляем первый скрытый слой\n",
        "model.add(Dense(units=300, input_dim=num_pixels, activation='sigmoid'))\n",
        "# 3. добавляем второй скрытый слой\n",
        "model.add(Dense(units=100, activation='sigmoid'))\n",
        "# 4. добавляем выходной слой\n",
        "model.add(Dense(units=num_classes, activation='softmax'))\n",
        "# 5. компилируем модель\n",
        "model.compile(loss='categorical_crossentropy', optimizer='sgd', metrics=['accuracy'])"
      ],
      "metadata": {
        "id": "n_iQNx4qjpzY"
      },
      "execution_count": null,
      "outputs": []
    },
    {
      "cell_type": "code",
      "source": [
        "# вывод информации об архитектуре модели\n",
        "print(model.summary())"
      ],
      "metadata": {
        "colab": {
          "base_uri": "https://localhost:8080/"
        },
        "id": "V-AkgkJJjzEB",
        "outputId": "9c02ad3f-c509-4b6b-e1fe-e510cc40ece4"
      },
      "execution_count": null,
      "outputs": [
        {
          "output_type": "stream",
          "name": "stdout",
          "text": [
            "Model: \"sequential_2\"\n",
            "_________________________________________________________________\n",
            " Layer (type)                Output Shape              Param #   \n",
            "=================================================================\n",
            " dense_6 (Dense)             (None, 300)               235500    \n",
            "                                                                 \n",
            " dense_7 (Dense)             (None, 100)               30100     \n",
            "                                                                 \n",
            " dense_8 (Dense)             (None, 10)                1010      \n",
            "                                                                 \n",
            "=================================================================\n",
            "Total params: 266,610\n",
            "Trainable params: 266,610\n",
            "Non-trainable params: 0\n",
            "_________________________________________________________________\n",
            "None\n"
          ]
        }
      ]
    },
    {
      "cell_type": "code",
      "source": [
        "# Обучаем модель\n",
        "H = model.fit(X_train, y_train, validation_split=0.1, epochs=100)"
      ],
      "metadata": {
        "colab": {
          "base_uri": "https://localhost:8080/"
        },
        "id": "4Bj0iuLnj-Fg",
        "outputId": "ba5884ca-4022-4a8e-f892-0e79d3238c12"
      },
      "execution_count": null,
      "outputs": [
        {
          "output_type": "stream",
          "name": "stdout",
          "text": [
            "Epoch 1/100\n",
            "1688/1688 [==============================] - 13s 8ms/step - loss: 2.1476 - accuracy: 0.3866 - val_loss: 1.9238 - val_accuracy: 0.5923\n",
            "Epoch 2/100\n",
            "1688/1688 [==============================] - 11s 6ms/step - loss: 1.5720 - accuracy: 0.6643 - val_loss: 1.2212 - val_accuracy: 0.7220\n",
            "Epoch 3/100\n",
            "1688/1688 [==============================] - 8s 5ms/step - loss: 0.9835 - accuracy: 0.7788 - val_loss: 0.8027 - val_accuracy: 0.8123\n",
            "Epoch 4/100\n",
            "1688/1688 [==============================] - 11s 7ms/step - loss: 0.7028 - accuracy: 0.8308 - val_loss: 0.6229 - val_accuracy: 0.8430\n",
            "Epoch 5/100\n",
            "1688/1688 [==============================] - 8s 5ms/step - loss: 0.5712 - accuracy: 0.8567 - val_loss: 0.5268 - val_accuracy: 0.8625\n",
            "Epoch 6/100\n",
            "1688/1688 [==============================] - 10s 6ms/step - loss: 0.4968 - accuracy: 0.8711 - val_loss: 0.4695 - val_accuracy: 0.8763\n",
            "Epoch 7/100\n",
            "1688/1688 [==============================] - 8s 5ms/step - loss: 0.4493 - accuracy: 0.8804 - val_loss: 0.4319 - val_accuracy: 0.8830\n",
            "Epoch 8/100\n",
            "1688/1688 [==============================] - 15s 9ms/step - loss: 0.4169 - accuracy: 0.8873 - val_loss: 0.4038 - val_accuracy: 0.8897\n",
            "Epoch 9/100\n",
            "1688/1688 [==============================] - 10s 6ms/step - loss: 0.3932 - accuracy: 0.8920 - val_loss: 0.3835 - val_accuracy: 0.8960\n",
            "Epoch 10/100\n",
            "1688/1688 [==============================] - 10s 6ms/step - loss: 0.3749 - accuracy: 0.8960 - val_loss: 0.3685 - val_accuracy: 0.9002\n",
            "Epoch 11/100\n",
            "1688/1688 [==============================] - 12s 7ms/step - loss: 0.3608 - accuracy: 0.8988 - val_loss: 0.3549 - val_accuracy: 0.9035\n",
            "Epoch 12/100\n",
            "1688/1688 [==============================] - 11s 6ms/step - loss: 0.3492 - accuracy: 0.9014 - val_loss: 0.3458 - val_accuracy: 0.9020\n",
            "Epoch 13/100\n",
            "1688/1688 [==============================] - 9s 5ms/step - loss: 0.3394 - accuracy: 0.9028 - val_loss: 0.3363 - val_accuracy: 0.9055\n",
            "Epoch 14/100\n",
            "1688/1688 [==============================] - 11s 7ms/step - loss: 0.3310 - accuracy: 0.9050 - val_loss: 0.3295 - val_accuracy: 0.9063\n",
            "Epoch 15/100\n",
            "1688/1688 [==============================] - 10s 6ms/step - loss: 0.3234 - accuracy: 0.9068 - val_loss: 0.3232 - val_accuracy: 0.9088\n",
            "Epoch 16/100\n",
            "1688/1688 [==============================] - 8s 5ms/step - loss: 0.3168 - accuracy: 0.9086 - val_loss: 0.3166 - val_accuracy: 0.9103\n",
            "Epoch 17/100\n",
            "1688/1688 [==============================] - 14s 9ms/step - loss: 0.3108 - accuracy: 0.9110 - val_loss: 0.3113 - val_accuracy: 0.9118\n",
            "Epoch 18/100\n",
            "1688/1688 [==============================] - 10s 6ms/step - loss: 0.3053 - accuracy: 0.9124 - val_loss: 0.3060 - val_accuracy: 0.9133\n",
            "Epoch 19/100\n",
            "1688/1688 [==============================] - 8s 5ms/step - loss: 0.3004 - accuracy: 0.9133 - val_loss: 0.3023 - val_accuracy: 0.9140\n",
            "Epoch 20/100\n",
            "1688/1688 [==============================] - 14s 8ms/step - loss: 0.2957 - accuracy: 0.9150 - val_loss: 0.2988 - val_accuracy: 0.9142\n",
            "Epoch 21/100\n",
            "1688/1688 [==============================] - 9s 5ms/step - loss: 0.2914 - accuracy: 0.9155 - val_loss: 0.2957 - val_accuracy: 0.9145\n",
            "Epoch 22/100\n",
            "1688/1688 [==============================] - 9s 5ms/step - loss: 0.2872 - accuracy: 0.9169 - val_loss: 0.2916 - val_accuracy: 0.9168\n",
            "Epoch 23/100\n",
            "1688/1688 [==============================] - 13s 8ms/step - loss: 0.2833 - accuracy: 0.9182 - val_loss: 0.2863 - val_accuracy: 0.9175\n",
            "Epoch 24/100\n",
            "1688/1688 [==============================] - 8s 5ms/step - loss: 0.2794 - accuracy: 0.9190 - val_loss: 0.2831 - val_accuracy: 0.9190\n",
            "Epoch 25/100\n",
            "1688/1688 [==============================] - 10s 6ms/step - loss: 0.2760 - accuracy: 0.9204 - val_loss: 0.2800 - val_accuracy: 0.9187\n",
            "Epoch 26/100\n",
            "1688/1688 [==============================] - 13s 8ms/step - loss: 0.2727 - accuracy: 0.9208 - val_loss: 0.2774 - val_accuracy: 0.9187\n",
            "Epoch 27/100\n",
            "1688/1688 [==============================] - 8s 5ms/step - loss: 0.2693 - accuracy: 0.9217 - val_loss: 0.2757 - val_accuracy: 0.9203\n",
            "Epoch 28/100\n",
            "1688/1688 [==============================] - 10s 6ms/step - loss: 0.2661 - accuracy: 0.9226 - val_loss: 0.2714 - val_accuracy: 0.9213\n",
            "Epoch 29/100\n",
            "1688/1688 [==============================] - 14s 8ms/step - loss: 0.2630 - accuracy: 0.9236 - val_loss: 0.2688 - val_accuracy: 0.9227\n",
            "Epoch 30/100\n",
            "1688/1688 [==============================] - 8s 5ms/step - loss: 0.2601 - accuracy: 0.9244 - val_loss: 0.2660 - val_accuracy: 0.9235\n",
            "Epoch 31/100\n",
            "1688/1688 [==============================] - 10s 6ms/step - loss: 0.2572 - accuracy: 0.9243 - val_loss: 0.2650 - val_accuracy: 0.9225\n",
            "Epoch 32/100\n",
            "1688/1688 [==============================] - 11s 7ms/step - loss: 0.2544 - accuracy: 0.9257 - val_loss: 0.2608 - val_accuracy: 0.9255\n",
            "Epoch 33/100\n",
            "1688/1688 [==============================] - 12s 7ms/step - loss: 0.2515 - accuracy: 0.9267 - val_loss: 0.2589 - val_accuracy: 0.9250\n",
            "Epoch 34/100\n",
            "1688/1688 [==============================] - 9s 6ms/step - loss: 0.2489 - accuracy: 0.9277 - val_loss: 0.2553 - val_accuracy: 0.9262\n",
            "Epoch 35/100\n",
            "1688/1688 [==============================] - 14s 8ms/step - loss: 0.2462 - accuracy: 0.9283 - val_loss: 0.2528 - val_accuracy: 0.9282\n",
            "Epoch 36/100\n",
            "1688/1688 [==============================] - 8s 5ms/step - loss: 0.2435 - accuracy: 0.9288 - val_loss: 0.2511 - val_accuracy: 0.9277\n",
            "Epoch 37/100\n",
            "1688/1688 [==============================] - 10s 6ms/step - loss: 0.2409 - accuracy: 0.9295 - val_loss: 0.2491 - val_accuracy: 0.9288\n",
            "Epoch 38/100\n",
            "1688/1688 [==============================] - 11s 7ms/step - loss: 0.2384 - accuracy: 0.9304 - val_loss: 0.2467 - val_accuracy: 0.9288\n",
            "Epoch 39/100\n",
            "1688/1688 [==============================] - 9s 6ms/step - loss: 0.2358 - accuracy: 0.9311 - val_loss: 0.2442 - val_accuracy: 0.9288\n",
            "Epoch 40/100\n",
            "1688/1688 [==============================] - 9s 5ms/step - loss: 0.2332 - accuracy: 0.9323 - val_loss: 0.2426 - val_accuracy: 0.9288\n",
            "Epoch 41/100\n",
            "1688/1688 [==============================] - 9s 6ms/step - loss: 0.2307 - accuracy: 0.9330 - val_loss: 0.2392 - val_accuracy: 0.9305\n",
            "Epoch 42/100\n",
            "1688/1688 [==============================] - 12s 7ms/step - loss: 0.2284 - accuracy: 0.9335 - val_loss: 0.2374 - val_accuracy: 0.9320\n",
            "Epoch 43/100\n",
            "1688/1688 [==============================] - 9s 5ms/step - loss: 0.2261 - accuracy: 0.9344 - val_loss: 0.2350 - val_accuracy: 0.9327\n",
            "Epoch 44/100\n",
            "1688/1688 [==============================] - 15s 9ms/step - loss: 0.2236 - accuracy: 0.9355 - val_loss: 0.2333 - val_accuracy: 0.9328\n",
            "Epoch 45/100\n",
            "1688/1688 [==============================] - 10s 6ms/step - loss: 0.2212 - accuracy: 0.9358 - val_loss: 0.2310 - val_accuracy: 0.9332\n",
            "Epoch 46/100\n",
            "1688/1688 [==============================] - 8s 5ms/step - loss: 0.2188 - accuracy: 0.9371 - val_loss: 0.2286 - val_accuracy: 0.9338\n",
            "Epoch 47/100\n",
            "1688/1688 [==============================] - 11s 6ms/step - loss: 0.2165 - accuracy: 0.9371 - val_loss: 0.2271 - val_accuracy: 0.9352\n",
            "Epoch 48/100\n",
            "1688/1688 [==============================] - 16s 9ms/step - loss: 0.2144 - accuracy: 0.9376 - val_loss: 0.2253 - val_accuracy: 0.9363\n",
            "Epoch 49/100\n",
            "1688/1688 [==============================] - 9s 5ms/step - loss: 0.2120 - accuracy: 0.9386 - val_loss: 0.2225 - val_accuracy: 0.9362\n",
            "Epoch 50/100\n",
            "1688/1688 [==============================] - 12s 7ms/step - loss: 0.2098 - accuracy: 0.9392 - val_loss: 0.2212 - val_accuracy: 0.9365\n",
            "Epoch 51/100\n",
            "1688/1688 [==============================] - 11s 6ms/step - loss: 0.2076 - accuracy: 0.9398 - val_loss: 0.2203 - val_accuracy: 0.9373\n",
            "Epoch 52/100\n",
            "1688/1688 [==============================] - 8s 5ms/step - loss: 0.2053 - accuracy: 0.9402 - val_loss: 0.2174 - val_accuracy: 0.9367\n",
            "Epoch 53/100\n",
            "1688/1688 [==============================] - 10s 6ms/step - loss: 0.2032 - accuracy: 0.9408 - val_loss: 0.2153 - val_accuracy: 0.9388\n",
            "Epoch 54/100\n",
            "1688/1688 [==============================] - 9s 6ms/step - loss: 0.2011 - accuracy: 0.9415 - val_loss: 0.2142 - val_accuracy: 0.9383\n",
            "Epoch 55/100\n",
            "1688/1688 [==============================] - 8s 5ms/step - loss: 0.1991 - accuracy: 0.9424 - val_loss: 0.2124 - val_accuracy: 0.9405\n",
            "Epoch 56/100\n",
            "1688/1688 [==============================] - 10s 6ms/step - loss: 0.1968 - accuracy: 0.9432 - val_loss: 0.2107 - val_accuracy: 0.9402\n",
            "Epoch 57/100\n",
            "1688/1688 [==============================] - 14s 8ms/step - loss: 0.1950 - accuracy: 0.9433 - val_loss: 0.2098 - val_accuracy: 0.9407\n",
            "Epoch 58/100\n",
            "1688/1688 [==============================] - 8s 5ms/step - loss: 0.1929 - accuracy: 0.9440 - val_loss: 0.2069 - val_accuracy: 0.9415\n",
            "Epoch 59/100\n",
            "1688/1688 [==============================] - 10s 6ms/step - loss: 0.1910 - accuracy: 0.9448 - val_loss: 0.2042 - val_accuracy: 0.9415\n",
            "Epoch 60/100\n",
            "1688/1688 [==============================] - 13s 8ms/step - loss: 0.1890 - accuracy: 0.9448 - val_loss: 0.2039 - val_accuracy: 0.9427\n",
            "Epoch 61/100\n",
            "1688/1688 [==============================] - 9s 5ms/step - loss: 0.1871 - accuracy: 0.9455 - val_loss: 0.2014 - val_accuracy: 0.9432\n",
            "Epoch 62/100\n",
            "1688/1688 [==============================] - 10s 6ms/step - loss: 0.1851 - accuracy: 0.9459 - val_loss: 0.1993 - val_accuracy: 0.9423\n",
            "Epoch 63/100\n",
            "1688/1688 [==============================] - 13s 8ms/step - loss: 0.1833 - accuracy: 0.9470 - val_loss: 0.1992 - val_accuracy: 0.9440\n",
            "Epoch 64/100\n",
            "1688/1688 [==============================] - 9s 5ms/step - loss: 0.1815 - accuracy: 0.9473 - val_loss: 0.1960 - val_accuracy: 0.9432\n",
            "Epoch 65/100\n",
            "1688/1688 [==============================] - 10s 6ms/step - loss: 0.1797 - accuracy: 0.9474 - val_loss: 0.1950 - val_accuracy: 0.9448\n",
            "Epoch 66/100\n",
            "1688/1688 [==============================] - 12s 7ms/step - loss: 0.1780 - accuracy: 0.9481 - val_loss: 0.1936 - val_accuracy: 0.9452\n",
            "Epoch 67/100\n",
            "1688/1688 [==============================] - 9s 5ms/step - loss: 0.1761 - accuracy: 0.9488 - val_loss: 0.1922 - val_accuracy: 0.9463\n",
            "Epoch 68/100\n",
            "1688/1688 [==============================] - 9s 5ms/step - loss: 0.1745 - accuracy: 0.9488 - val_loss: 0.1904 - val_accuracy: 0.9458\n",
            "Epoch 69/100\n",
            "1688/1688 [==============================] - 13s 8ms/step - loss: 0.1728 - accuracy: 0.9498 - val_loss: 0.1892 - val_accuracy: 0.9468\n",
            "Epoch 70/100\n",
            "1688/1688 [==============================] - 9s 5ms/step - loss: 0.1712 - accuracy: 0.9504 - val_loss: 0.1887 - val_accuracy: 0.9475\n",
            "Epoch 71/100\n",
            "1688/1688 [==============================] - 9s 6ms/step - loss: 0.1694 - accuracy: 0.9508 - val_loss: 0.1873 - val_accuracy: 0.9477\n",
            "Epoch 72/100\n",
            "1688/1688 [==============================] - 10s 6ms/step - loss: 0.1679 - accuracy: 0.9510 - val_loss: 0.1858 - val_accuracy: 0.9465\n",
            "Epoch 73/100\n",
            "1688/1688 [==============================] - 10s 6ms/step - loss: 0.1663 - accuracy: 0.9521 - val_loss: 0.1833 - val_accuracy: 0.9478\n",
            "Epoch 74/100\n",
            "1688/1688 [==============================] - 9s 5ms/step - loss: 0.1648 - accuracy: 0.9518 - val_loss: 0.1824 - val_accuracy: 0.9473\n",
            "Epoch 75/100\n",
            "1688/1688 [==============================] - 12s 7ms/step - loss: 0.1633 - accuracy: 0.9526 - val_loss: 0.1818 - val_accuracy: 0.9490\n",
            "Epoch 76/100\n",
            "1688/1688 [==============================] - 11s 6ms/step - loss: 0.1616 - accuracy: 0.9538 - val_loss: 0.1803 - val_accuracy: 0.9497\n",
            "Epoch 77/100\n",
            "1688/1688 [==============================] - 8s 5ms/step - loss: 0.1603 - accuracy: 0.9536 - val_loss: 0.1789 - val_accuracy: 0.9485\n",
            "Epoch 78/100\n",
            "1688/1688 [==============================] - 12s 7ms/step - loss: 0.1588 - accuracy: 0.9538 - val_loss: 0.1776 - val_accuracy: 0.9480\n",
            "Epoch 79/100\n",
            "1688/1688 [==============================] - 11s 7ms/step - loss: 0.1574 - accuracy: 0.9543 - val_loss: 0.1764 - val_accuracy: 0.9497\n",
            "Epoch 80/100\n",
            "1688/1688 [==============================] - 8s 5ms/step - loss: 0.1560 - accuracy: 0.9547 - val_loss: 0.1767 - val_accuracy: 0.9502\n",
            "Epoch 81/100\n",
            "1688/1688 [==============================] - 12s 7ms/step - loss: 0.1545 - accuracy: 0.9554 - val_loss: 0.1746 - val_accuracy: 0.9488\n",
            "Epoch 82/100\n",
            "1688/1688 [==============================] - 12s 7ms/step - loss: 0.1532 - accuracy: 0.9555 - val_loss: 0.1724 - val_accuracy: 0.9507\n",
            "Epoch 83/100\n",
            "1688/1688 [==============================] - 8s 5ms/step - loss: 0.1519 - accuracy: 0.9564 - val_loss: 0.1719 - val_accuracy: 0.9495\n",
            "Epoch 84/100\n",
            "1688/1688 [==============================] - 11s 7ms/step - loss: 0.1506 - accuracy: 0.9568 - val_loss: 0.1711 - val_accuracy: 0.9495\n",
            "Epoch 85/100\n",
            "1688/1688 [==============================] - 12s 7ms/step - loss: 0.1492 - accuracy: 0.9570 - val_loss: 0.1701 - val_accuracy: 0.9518\n",
            "Epoch 86/100\n",
            "1688/1688 [==============================] - 8s 5ms/step - loss: 0.1478 - accuracy: 0.9572 - val_loss: 0.1694 - val_accuracy: 0.9502\n",
            "Epoch 87/100\n",
            "1688/1688 [==============================] - 11s 7ms/step - loss: 0.1467 - accuracy: 0.9573 - val_loss: 0.1680 - val_accuracy: 0.9512\n",
            "Epoch 88/100\n",
            "1688/1688 [==============================] - 12s 7ms/step - loss: 0.1455 - accuracy: 0.9583 - val_loss: 0.1666 - val_accuracy: 0.9512\n",
            "Epoch 89/100\n",
            "1688/1688 [==============================] - 8s 5ms/step - loss: 0.1441 - accuracy: 0.9579 - val_loss: 0.1652 - val_accuracy: 0.9518\n",
            "Epoch 90/100\n",
            "1688/1688 [==============================] - 11s 6ms/step - loss: 0.1428 - accuracy: 0.9586 - val_loss: 0.1657 - val_accuracy: 0.9528\n",
            "Epoch 91/100\n",
            "1688/1688 [==============================] - 13s 8ms/step - loss: 0.1417 - accuracy: 0.9589 - val_loss: 0.1639 - val_accuracy: 0.9518\n",
            "Epoch 92/100\n",
            "1688/1688 [==============================] - 8s 5ms/step - loss: 0.1406 - accuracy: 0.9594 - val_loss: 0.1626 - val_accuracy: 0.9525\n",
            "Epoch 93/100\n",
            "1688/1688 [==============================] - 11s 7ms/step - loss: 0.1394 - accuracy: 0.9596 - val_loss: 0.1619 - val_accuracy: 0.9523\n",
            "Epoch 94/100\n",
            "1688/1688 [==============================] - 9s 5ms/step - loss: 0.1382 - accuracy: 0.9598 - val_loss: 0.1605 - val_accuracy: 0.9540\n",
            "Epoch 95/100\n",
            "1688/1688 [==============================] - 9s 6ms/step - loss: 0.1370 - accuracy: 0.9603 - val_loss: 0.1616 - val_accuracy: 0.9535\n",
            "Epoch 96/100\n",
            "1688/1688 [==============================] - 10s 6ms/step - loss: 0.1358 - accuracy: 0.9605 - val_loss: 0.1586 - val_accuracy: 0.9540\n",
            "Epoch 97/100\n",
            "1688/1688 [==============================] - 14s 8ms/step - loss: 0.1348 - accuracy: 0.9610 - val_loss: 0.1575 - val_accuracy: 0.9552\n",
            "Epoch 98/100\n",
            "1688/1688 [==============================] - 9s 5ms/step - loss: 0.1337 - accuracy: 0.9607 - val_loss: 0.1573 - val_accuracy: 0.9535\n",
            "Epoch 99/100\n",
            "1688/1688 [==============================] - 10s 6ms/step - loss: 0.1325 - accuracy: 0.9618 - val_loss: 0.1567 - val_accuracy: 0.9557\n",
            "Epoch 100/100\n",
            "1688/1688 [==============================] - 15s 9ms/step - loss: 0.1314 - accuracy: 0.9619 - val_loss: 0.1552 - val_accuracy: 0.9557\n"
          ]
        }
      ]
    },
    {
      "cell_type": "code",
      "source": [
        "# вывод графика ошибки по эпохам\n",
        "plt.plot(H.history['loss'])\n",
        "plt.plot(H.history['val_loss'])\n",
        "plt.grid()\n",
        "plt.xlabel('Epochs')\n",
        "plt.ylabel('loss')\n",
        "plt.legend(['train_loss', 'val_loss'])\n",
        "plt.title('Loss by epochs')\n",
        "plt.show()"
      ],
      "metadata": {
        "colab": {
          "base_uri": "https://localhost:8080/",
          "height": 472
        },
        "id": "sC6SU6zMndsm",
        "outputId": "44dcac80-bbc4-4f92-82b9-ee5c32d16fe3"
      },
      "execution_count": null,
      "outputs": [
        {
          "output_type": "display_data",
          "data": {
            "text/plain": [
              "<Figure size 640x480 with 1 Axes>"
            ],
            "image/png": "[encoded data removed]"
          },
          "metadata": {}
        }
      ]
    },
    {
      "cell_type": "code",
      "source": [
        "# Оценка качества работы модели на тестовых данных\n",
        "scores = model.evaluate(X_test, y_test)\n",
        "print('Loss on test data:', scores[0])\n",
        "print('Accuracy on test data:', scores[1])"
      ],
      "metadata": {
        "colab": {
          "base_uri": "https://localhost:8080/"
        },
        "id": "xXuAHqlEng3p",
        "outputId": "b3f4d21f-04c9-4ffd-a8da-f3da1976b490"
      },
      "execution_count": null,
      "outputs": [
        {
          "output_type": "stream",
          "name": "stdout",
          "text": [
            "313/313 [==============================] - 1s 4ms/step - loss: 0.1605 - accuracy: 0.9516\n",
            "Loss on test data: 0.16045494377613068\n",
            "Accuracy on test data: 0.9516000151634216\n"
          ]
        }
      ]
    },
    {
      "cell_type": "code",
      "source": [
        "# вывод тестового изображения и результата распознавания\n",
        "n = 123\n",
        "result = model.predict(X_test[n:n+1])\n",
        "print('NN output:', result)\n",
        "plt.imshow(X_test[n].reshape(28,28), cmap=plt.get_cmap('gray'))\n",
        "plt.show()\n",
        "print('Real mark: ', str(np.argmax(y_test[n])))\n",
        "print('NN answer: ', str(np.argmax(result)))"
      ],
      "metadata": {
        "colab": {
          "base_uri": "https://localhost:8080/",
          "height": 517
        },
        "id": "aRR80hFHnmBx",
        "outputId": "6ed721eb-a42f-4b09-cfb9-6ea1ad48c529"
      },
      "execution_count": null,
      "outputs": [
        {
          "output_type": "stream",
          "name": "stdout",
          "text": [
            "1/1 [==============================] - 0s 101ms/step\n",
            "NN output: [[9.7971731e-01 1.7821254e-06 3.2410023e-04 1.5236597e-04 2.6423812e-05\n",
            "  9.0748044e-03 1.0614152e-02 3.3289296e-05 3.6912468e-05 1.8956602e-05]]\n"
          ]
        },
        {
          "output_type": "display_data",
          "data": {
            "text/plain": [
              "<Figure size 640x480 with 1 Axes>"
            ],
            "image/png": "[encoded data removed]"
          },
          "metadata": {}
        },
        {
          "output_type": "stream",
          "name": "stdout",
          "text": [
            "Real mark:  0\n",
            "NN answer:  0\n"
          ]
        }
      ]
    },
    {
      "cell_type": "code",
      "source": [
        "# загрузка собственного изображения\n",
        "from PIL import Image\n",
        "file_data = Image.open('Лаба1.png')\n",
        "file_data = file_data.convert('L') # перевод в градации серого\n",
        "test_img = np.array(file_data)"
      ],
      "metadata": {
        "id": "10Q2r0IApwxa"
      },
      "execution_count": null,
      "outputs": []
    },
    {
      "cell_type": "code",
      "source": [
        "# вывод собственного изображения\n",
        "plt.imshow(test_img, cmap=plt.get_cmap('gray'))\n",
        "plt.show()\n",
        "# предобработка\n",
        "test_img = test_img / 255\n",
        "test_img = test_img.reshape(1, num_pixels)\n",
        "# распознавание\n",
        "result = model.predict(test_img)\n",
        "print('I think it\\'s ', np.argmax(result))"
      ],
      "metadata": {
        "colab": {
          "base_uri": "https://localhost:8080/",
          "height": 465
        },
        "id": "I9iq3l43p1ht",
        "outputId": "a9f0f6c4-0ba8-4842-d910-d75c5a67daf5"
      },
      "execution_count": null,
      "outputs": [
        {
          "output_type": "display_data",
          "data": {
            "text/plain": [
              "<Figure size 640x480 with 1 Axes>"
            ],
            "image/png": "[encoded data removed]"
          },
          "metadata": {}
        },
        {
          "output_type": "stream",
          "name": "stdout",
          "text": [
            "1/1 [==============================] - 0s 38ms/step\n",
            "I think it's  3\n"
          ]
        }
      ]
    }
  ]
}